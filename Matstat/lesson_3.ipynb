{
 "cells": [
  {
   "cell_type": "markdown",
   "metadata": {},
   "source": [
    "# Урок 3. Описательная статистика. Качественные и количественные характеристики популяции. Графическое представление данных"
   ]
  },
  {
   "cell_type": "code",
   "execution_count": 11,
   "metadata": {},
   "outputs": [],
   "source": [
    "import numpy as np\n",
    "import math\n",
    "def combinations(n, k):\n",
    "    return math.factorial(n)//(math.factorial(k)*math.factorial(n-k))"
   ]
  },
  {
   "cell_type": "markdown",
   "metadata": {},
   "source": [
    "### 1. Даны значения зарплат из выборки выпускников: 100, 80, 75, 77, 89, 33, 45, 25, 65, 17, 30, 24, 57, 55, 70, 75, 65, 84, 90, 150. Посчитать (желательно без использования статистических методов наподобие std, var, mean) среднее арифметическое, среднее квадратичное отклонение, смещенную и несмещенную оценки дисперсий для данной выборки."
   ]
  },
  {
   "cell_type": "code",
   "execution_count": 12,
   "metadata": {},
   "outputs": [
    {
     "name": "stdout",
     "output_type": "stream",
     "text": [
      "65.3\n",
      "65.3\n",
      "30.823854398825596\n",
      "30.823854398825596\n",
      "950.11\n",
      "950.11\n",
      "1000.1157894736842\n",
      "1000.1157894736842\n"
     ]
    }
   ],
   "source": [
    "mas = [100, 80, 75, 77, 89, 33, 45, 25, 65, 17, 30, 24, 57, 55, 70, 75, 65, 84, 90, 150]\n",
    "mean = 0\n",
    "for m in mas:\n",
    "    mean += m\n",
    "mean /= len(mas)\n",
    "print(mean)\n",
    "print(np.mean(mas))\n",
    "\n",
    "sko = 0\n",
    "for m in mas:\n",
    "    sko += (m-mean)**2\n",
    "sko /= len(mas)\n",
    "sko = sko**0.5\n",
    "print(sko)\n",
    "print(np.std(mas))\n",
    "\n",
    "S_sm = sko**2\n",
    "print(S_sm)\n",
    "print(np.var(mas))\n",
    "\n",
    "S_nesm = (sko**2)*len(mas)/(len(mas)-1)\n",
    "print(S_nesm)\n",
    "print(np.var(mas, ddof=1))"
   ]
  },
  {
   "cell_type": "markdown",
   "metadata": {},
   "source": [
    "### 2. В первом ящике находится 8 мячей, из которых 5 - белые. Во втором ящике - 12 мячей, из которых 5 белых. Из первого ящика вытаскивают случайным образом два мяча, из второго - 4. Какова вероятность того, что 3 мяча белые?"
   ]
  },
  {
   "cell_type": "code",
   "execution_count": 15,
   "metadata": {},
   "outputs": [
    {
     "name": "stdout",
     "output_type": "stream",
     "text": [
      "0.3686868686868687\n"
     ]
    }
   ],
   "source": [
    "#Из первого 2 белых, из второго 1\n",
    "p1 = (combinations(5, 2)/combinations(8, 2))*(combinations(5, 1)*combinations(7, 3)/combinations(12, 4))\n",
    "#Из первого 1 белый, из второго 2\n",
    "p2 = (combinations(5, 1)*combinations(3, 1)/combinations(8, 2))*(combinations(5, 2)*combinations(7, 2)/combinations(12, 4))\n",
    "#Все 3 из второго\n",
    "p3 = (combinations(3, 2)/combinations(8, 2))*(combinations(5, 3)*combinations(7, 1)/combinations(12, 4))\n",
    "#Складываем все возможные исходы\n",
    "p = p1 + p2 + p3\n",
    "print(p)"
   ]
  },
  {
   "cell_type": "markdown",
   "metadata": {},
   "source": [
    "### 3. На соревновании по биатлону один из трех спортсменов стреляет и попадает в мишень. Вероятность попадания для первого спортсмена равна 0.9, для второго — 0.8, для третьего — 0.6. Найти вероятность того, что выстрел произведен: a). первым спортсменом б). вторым спортсменом в). третьим спортсменом."
   ]
  },
  {
   "cell_type": "code",
   "execution_count": 18,
   "metadata": {},
   "outputs": [
    {
     "name": "stdout",
     "output_type": "stream",
     "text": [
      "0.7666666666666667\n"
     ]
    }
   ],
   "source": [
    "p1 = 0.9\n",
    "p2 = 0.8\n",
    "p3 = 0.6\n",
    "#Находим вероятность попадания в мешень любым спортсменом\n",
    "P = (p1+p2+p3)*1/3\n",
    "print(P)"
   ]
  },
  {
   "cell_type": "code",
   "execution_count": 19,
   "metadata": {},
   "outputs": [
    {
     "name": "stdout",
     "output_type": "stream",
     "text": [
      "0.3913043478260869\n",
      "0.34782608695652173\n",
      "0.26086956521739124\n"
     ]
    }
   ],
   "source": [
    "#По формуле Байеса определяем вероятность для каждого спортсмена\n",
    "p1 = 1/3*p1/P\n",
    "print(p1)\n",
    "p2 = 1/3*p2/P\n",
    "print(p2)\n",
    "p3 = 1/3*p3/P\n",
    "print(p3)"
   ]
  },
  {
   "cell_type": "markdown",
   "metadata": {},
   "source": [
    "### 4. В университет на факультеты A и B поступило равное количество студентов, а на факультет C студентов поступило столько же, сколько на A и B вместе. Вероятность того, что студент факультета A сдаст первую сессию, равна 0.8. Для студента факультета B эта вероятность равна 0.7, а для студента факультета C - 0.9. Студент сдал первую сессию. Какова вероятность, что он учится: a). на факультете A б). на факультете B в). на факультете C?"
   ]
  },
  {
   "cell_type": "code",
   "execution_count": 20,
   "metadata": {},
   "outputs": [
    {
     "name": "stdout",
     "output_type": "stream",
     "text": [
      "0.825\n"
     ]
    }
   ],
   "source": [
    "p1 = 0.8\n",
    "p2 = 0.7\n",
    "p3 = 0.9\n",
    "P = p1*1/4 + p2*1/4 + p3*1/2\n",
    "print(P)"
   ]
  },
  {
   "cell_type": "code",
   "execution_count": 22,
   "metadata": {},
   "outputs": [
    {
     "name": "stdout",
     "output_type": "stream",
     "text": [
      "0.07346189164370984\n",
      "0.0642791551882461\n",
      "0.3305785123966943\n"
     ]
    }
   ],
   "source": [
    "#Для задачи аналогичные рассуждения, кроме того что студентов на факультете С в 2 раза больше, чем на А и В\n",
    "p1 = 1/4*p1/P\n",
    "print(p1)\n",
    "p2 = 1/4*p2/P\n",
    "print(p2)\n",
    "p3 = 1/2*p3/P\n",
    "print(p3)"
   ]
  },
  {
   "cell_type": "markdown",
   "metadata": {},
   "source": [
    "### 5. Устройство состоит из трех деталей. Для первой детали вероятность выйти из строя в первый месяц равна 0.1, для второй - 0.2, для третьей - 0.25. Какова вероятность того, что в первый месяц выйдут из строя: а). все детали б). только две детали в). хотя бы одна деталь г). от одной до двух деталей?"
   ]
  },
  {
   "cell_type": "code",
   "execution_count": 27,
   "metadata": {},
   "outputs": [
    {
     "name": "stdout",
     "output_type": "stream",
     "text": [
      "0.005000000000000001\n",
      "0.08000000000000002\n",
      "0.45999999999999996\n",
      "0.45499999999999996\n"
     ]
    }
   ],
   "source": [
    "p1 = 0.1\n",
    "p2 = 0.2\n",
    "p3 = 0.25\n",
    "#Все три вероятности одновременно\n",
    "p_a = p1*p2*p3\n",
    "print(p_a)\n",
    "#Любая комбинация из двух сломавшихся и одной не сломавшейся\n",
    "p_b = p1*p2*(1-p3) + p1*p3*(1-p2) + p2*p3*(1-p1)\n",
    "print(p_b)\n",
    "#Любая комбинация, кроме той в которой ни одна деталь не сломалась\n",
    "p_c = 1 - (1-p1)*(1-p2)*(1-p3)\n",
    "print(p_c)\n",
    "#Любая комбинация, кроме той в которой ни одна деталь не сломалась или кроме той, в которой сломались все\n",
    "p_d = 1 - (1-p1)*(1-p2)*(1-p3) - p1*p2*p3\n",
    "print(p_d)"
   ]
  },
  {
   "cell_type": "code",
   "execution_count": null,
   "metadata": {},
   "outputs": [],
   "source": []
  }
 ],
 "metadata": {
  "kernelspec": {
   "display_name": "Python 3",
   "language": "python",
   "name": "python3"
  },
  "language_info": {
   "codemirror_mode": {
    "name": "ipython",
    "version": 3
   },
   "file_extension": ".py",
   "mimetype": "text/x-python",
   "name": "python",
   "nbconvert_exporter": "python",
   "pygments_lexer": "ipython3",
   "version": "3.7.3"
  }
 },
 "nbformat": 4,
 "nbformat_minor": 4
}
