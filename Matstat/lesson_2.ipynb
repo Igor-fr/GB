{
 "cells": [
  {
   "cell_type": "markdown",
   "metadata": {},
   "source": [
    "# Урок 2. Дискретные случайные величины. Закон распределения вероятностей. Биномиальный закон распределения. Распределение Пуассона"
   ]
  },
  {
   "cell_type": "code",
   "execution_count": 9,
   "metadata": {},
   "outputs": [],
   "source": [
    "import math\n",
    "def combinations(n, k):\n",
    "    return math.factorial(n)//(math.factorial(k)*math.factorial(n-k))\n",
    "def bernulli(n, p, k):\n",
    "    return combinations(n, k)*(p**(k))*((1-p)**(n-k))\n",
    "def puasson(n, p, k):\n",
    "    return ((n*p)**k)*math.exp(-n*p)/math.factorial(k)"
   ]
  },
  {
   "cell_type": "markdown",
   "metadata": {},
   "source": [
    "### 1. Вероятность того, что стрелок попадет в мишень, выстрелив один раз, равна 0.8. Стрелок выстрелил 100 раз. Найдите вероятность того, что стрелок попадет в цель ровно 85 раз."
   ]
  },
  {
   "cell_type": "code",
   "execution_count": 10,
   "metadata": {},
   "outputs": [
    {
     "data": {
      "text/plain": [
       "0.048061793700746355"
      ]
     },
     "execution_count": 10,
     "metadata": {},
     "output_type": "execute_result"
    }
   ],
   "source": [
    "n = 100\n",
    "k = 85\n",
    "p = 0.8\n",
    "bernulli(n, p, k)"
   ]
  },
  {
   "cell_type": "markdown",
   "metadata": {},
   "source": [
    "### 2. Вероятность того, что лампочка перегорит в течение первого дня эксплуатации, равна 0.0004. В жилом комплексе после ремонта в один день включили 5000 новых лампочек. Какова вероятность, что ни одна из них не перегорит в первый день? Какова вероятность, что перегорят ровно две?"
   ]
  },
  {
   "cell_type": "code",
   "execution_count": 14,
   "metadata": {},
   "outputs": [
    {
     "name": "stdout",
     "output_type": "stream",
     "text": [
      "0.1353352832366127 0.2706705664732254\n",
      "0.13528114551440706 0.2707247150266753\n"
     ]
    }
   ],
   "source": [
    "n = 5000\n",
    "k1 = 0\n",
    "k2 = 2\n",
    "p = 0.0004\n",
    "print(puasson(n, p, k1), puasson(n, p, k2))\n",
    "print(bernulli(n, p, k1), bernulli(n, p, k2))"
   ]
  },
  {
   "cell_type": "markdown",
   "metadata": {},
   "source": [
    "### 3. Монету подбросили 144 раза. Какова вероятность, что орел выпадет ровно 70 раз?"
   ]
  },
  {
   "cell_type": "code",
   "execution_count": 15,
   "metadata": {},
   "outputs": [
    {
     "data": {
      "text/plain": [
       "0.06281178035144776"
      ]
     },
     "execution_count": 15,
     "metadata": {},
     "output_type": "execute_result"
    }
   ],
   "source": [
    "n = 144\n",
    "k = 70\n",
    "p = 0.5\n",
    "bernulli(n, p, k)"
   ]
  },
  {
   "cell_type": "markdown",
   "metadata": {},
   "source": [
    "### 4. В первом ящике находится 10 мячей, из которых 7 - белые. Во втором ящике - 11 мячей, из которых 9 белых. Из каждого ящика вытаскивают случайным образом по два мяча. Какова вероятность того, что все мячи белые? Какова вероятность того, что ровно два мяча белые? Какова вероятность того, что хотя бы один мяч белый?"
   ]
  },
  {
   "cell_type": "code",
   "execution_count": 19,
   "metadata": {},
   "outputs": [
    {
     "data": {
      "text/plain": [
       "0.3054545454545455"
      ]
     },
     "execution_count": 19,
     "metadata": {},
     "output_type": "execute_result"
    }
   ],
   "source": [
    "#Находим комбинации всех белых мячей в обоих корзинах к общему возможному числу комбинаций и перемножаем\n",
    "(combinations(7, 2)/combinations(10,2))*(combinations(9, 2)/combinations(11,2))"
   ]
  },
  {
   "cell_type": "code",
   "execution_count": 29,
   "metadata": {},
   "outputs": [
    {
     "name": "stdout",
     "output_type": "stream",
     "text": [
      "0.20484848484848486\n"
     ]
    }
   ],
   "source": [
    "#Комбинация, когда из обоих корзин достали один черный и один белый\n",
    "p1 = (combinations(7, 1)*combinations(3, 1)/combinations(10,2))*(combinations(9, 1)*combinations(2, 1)/combinations(11,2))\n",
    "#Из первой достали 2 белых, из второй 2 черных\n",
    "p2 = (combinations(7, 2)/combinations(10,2))*(combinations(2, 2)/combinations(11,2))\n",
    "#Из первой достали 2 черных, из второй 2 белых\n",
    "p3 = (combinations(9, 2)/combinations(11,2))*(combinations(3, 2)/combinations(10,2))\n",
    "#Из этих комбинаций нам подходит любая, соответственно вероятности нужно сложить\n",
    "p = p1 + p2 + p3\n",
    "print(p)"
   ]
  },
  {
   "cell_type": "code",
   "execution_count": 30,
   "metadata": {},
   "outputs": [
    {
     "data": {
      "text/plain": [
       "0.9987878787878788"
      ]
     },
     "execution_count": 30,
     "metadata": {},
     "output_type": "execute_result"
    }
   ],
   "source": [
    "#Находим комбинации, когда нет ни одного белого мяча и вычитаем из 1\n",
    "1 - (combinations(3, 2)/combinations(10,2))*(combinations(2, 2)/combinations(11,2))"
   ]
  }
 ],
 "metadata": {
  "kernelspec": {
   "display_name": "Python 3",
   "language": "python",
   "name": "python3"
  },
  "language_info": {
   "codemirror_mode": {
    "name": "ipython",
    "version": 3
   },
   "file_extension": ".py",
   "mimetype": "text/x-python",
   "name": "python",
   "nbconvert_exporter": "python",
   "pygments_lexer": "ipython3",
   "version": "3.7.3"
  }
 },
 "nbformat": 4,
 "nbformat_minor": 4
}
