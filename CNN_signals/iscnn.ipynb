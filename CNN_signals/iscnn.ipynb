{
 "cells": [
  {
   "cell_type": "code",
   "execution_count": 1,
   "metadata": {},
   "outputs": [],
   "source": [
    "import pickle\n",
    "from random import shuffle\n",
    "import numpy as np\n",
    "import pandas as pd\n",
    "import tensorflow as tf\n",
    "from matplotlib import pyplot as plt\n",
    "\n",
    "from pyts.image import MarkovTransitionField as MTF\n",
    "from sklearn.preprocessing import MinMaxScaler\n",
    "\n",
    "from sklearn.metrics import roc_auc_score\n",
    "from sklearn.metrics import roc_curve\n",
    "from sklearn.metrics import classification_report\n",
    "from sklearn.metrics import confusion_matrix\n",
    "from sklearn.metrics import precision_score\n",
    "from sklearn.metrics import recall_score\n",
    "from sklearn.metrics import f1_score"
   ]
  },
  {
   "cell_type": "code",
   "execution_count": 2,
   "metadata": {},
   "outputs": [],
   "source": [
    "# метки классов по порогу\n",
    "def labels_pred(pred_proba_1, threshold=0.5):\n",
    "    _labels_pred = np.array(list(map(lambda x: 0 if x<threshold else 1, pred_proba_1)))\n",
    "    return _labels_pred\n",
    "\n",
    "# отчет по классификации\n",
    "def report(y_true, y_prob, threshold=0.5):\n",
    "    tn, fp, fn, tp = confusion_matrix(test_true, labels_pred(y_prob, threshold)).ravel()\n",
    "    print(classification_report(test_true, labels_pred(y_prob, threshold)))\n",
    "    print('---------------')\n",
    "    print('Матрица ошибок:')\n",
    "    print(confusion_matrix(y_true, labels_pred(y_prob, threshold)))\n",
    "    print('---------------')\n",
    "    print(f'Правильно предсказано 0: {tn}')\n",
    "    print(f'Правильно предсказано 1: {tp}')\n",
    "    print(f'Ложноотрицательных (FN, ош2р, пропуск события): {fn}')\n",
    "    print(f'Ложноположительных (FP, ош1р, ложная  тревога): {fp}')\n",
    "    print(f'Всего ошибок: {fp+fn}')\n",
    "\n",
    "# калибровка порога\n",
    "def show_proba_calibration_plots(y_predicted_probs, y_true_labels):\n",
    "    preds_with_true_labels = np.array(list(zip(y_predicted_probs, y_true_labels)))\n",
    "\n",
    "    thresholds = []\n",
    "    precisions = []\n",
    "    recalls = []\n",
    "    f1_scores = []\n",
    "\n",
    "    for threshold in np.linspace(0.1, 0.9, 9):\n",
    "        thresholds.append(threshold)\n",
    "        precisions.append(precision_score(y_true_labels, list(map(int, y_predicted_probs > threshold))))\n",
    "        recalls.append(recall_score(y_true_labels, list(map(int, y_predicted_probs > threshold))))\n",
    "        f1_scores.append(f1_score(y_true_labels, list(map(int, y_predicted_probs > threshold))))\n",
    "\n",
    "    scores_table = pd.DataFrame({'f1':f1_scores,\n",
    "                                 'precision':precisions,\n",
    "                                 'recall':recalls,\n",
    "                                 'probability':thresholds}).sort_values('f1', ascending=False).round(3)\n",
    "  \n",
    "    figure = plt.figure(figsize = (15, 5))\n",
    "\n",
    "    plt1 = figure.add_subplot(121)\n",
    "    plt1.plot(thresholds, precisions, label='Precision', linewidth=4)\n",
    "    plt1.plot(thresholds, recalls, label='Recall', linewidth=4)\n",
    "    plt1.plot(thresholds, f1_scores, label='F1', linewidth=4)\n",
    "    plt1.set_ylabel('Scores')\n",
    "    plt1.set_xlabel('Probability threshold')\n",
    "    plt1.set_title('Probabilities threshold calibration')\n",
    "    plt1.legend(bbox_to_anchor=(0.25, 0.25))   \n",
    "    plt1.table(cellText = scores_table.values,\n",
    "               colLabels = scores_table.columns, \n",
    "               colLoc = 'center', cellLoc = 'center', loc = 'bottom', bbox = [0, -1.3, 1, 1])\n",
    "\n",
    "    plt2 = figure.add_subplot(122)\n",
    "    plt2.hist(preds_with_true_labels[preds_with_true_labels[:, 1] == 0][:, 0], \n",
    "              label='Сlass 0', color='royalblue', alpha=1)\n",
    "    plt2.hist(preds_with_true_labels[preds_with_true_labels[:, 1] == 1][:, 0], \n",
    "              label='Class 1', color='darkcyan', alpha=0.8)\n",
    "    plt2.set_ylabel('Number of examples')\n",
    "    plt2.set_xlabel('Probabilities')\n",
    "    plt2.set_title('Probability histogram')\n",
    "    plt2.legend(bbox_to_anchor=(1, 1))\n",
    "\n",
    "    plt.show()"
   ]
  },
  {
   "cell_type": "markdown",
   "metadata": {},
   "source": [
    "# Датасет"
   ]
  },
  {
   "cell_type": "code",
   "execution_count": 3,
   "metadata": {},
   "outputs": [
    {
     "data": {
      "text/plain": [
       "((49248, 7, 2000), (49248, 4))"
      ]
     },
     "execution_count": 3,
     "metadata": {},
     "output_type": "execute_result"
    }
   ],
   "source": [
    "data_features = np.load('data_fragm.pkl',allow_pickle=True)\n",
    "data_targets = np.load('data_param.pkl',allow_pickle=True)\n",
    "\n",
    "data_features.shape, data_targets.shape"
   ]
  },
  {
   "cell_type": "code",
   "execution_count": 4,
   "metadata": {},
   "outputs": [],
   "source": [
    "data = list(zip(data_features,data_targets))\n",
    "shuffle(data)"
   ]
  },
  {
   "cell_type": "code",
   "execution_count": 5,
   "metadata": {
    "scrolled": false
   },
   "outputs": [
    {
     "data": {
      "text/plain": [
       "((49248, 7, 2000), (49248, 4))"
      ]
     },
     "execution_count": 5,
     "metadata": {},
     "output_type": "execute_result"
    }
   ],
   "source": [
    "data_features = []\n",
    "data_targets = []\n",
    "for data_feature,data_target in data:\n",
    "    data_features.append(data_feature)\n",
    "    data_targets.append(data_target)\n",
    "data_features = np.array(data_features)\n",
    "data_targets = np.array(data_targets)\n",
    "\n",
    "data_features.shape, data_targets.shape"
   ]
  },
  {
   "cell_type": "code",
   "execution_count": 6,
   "metadata": {},
   "outputs": [
    {
     "data": {
      "text/plain": [
       "(49248, 2000, 7)"
      ]
     },
     "execution_count": 6,
     "metadata": {},
     "output_type": "execute_result"
    }
   ],
   "source": [
    "# переделка структуры данных\n",
    "features = np.array([feature.T for feature in data_features])\n",
    "features.shape"
   ]
  },
  {
   "cell_type": "code",
   "execution_count": 7,
   "metadata": {},
   "outputs": [
    {
     "data": {
      "text/plain": [
       "(49248,)"
      ]
     },
     "execution_count": 7,
     "metadata": {},
     "output_type": "execute_result"
    }
   ],
   "source": [
    "# переделка структуры данных с метками\n",
    "labels = data_targets[:,3].astype(int)\n",
    "labels.shape"
   ]
  },
  {
   "cell_type": "markdown",
   "metadata": {},
   "source": [
    "### Пайплан данных"
   ]
  },
  {
   "cell_type": "markdown",
   "metadata": {},
   "source": [
    "#### Масштабирование каналов от 0 до 1"
   ]
  },
  {
   "cell_type": "code",
   "execution_count": 8,
   "metadata": {},
   "outputs": [
    {
     "data": {
      "text/plain": [
       "(49248, 2000, 7)"
      ]
     },
     "execution_count": 8,
     "metadata": {},
     "output_type": "execute_result"
    }
   ],
   "source": [
    "def prepare_chanels(sample):\n",
    "    scaler = MinMaxScaler()\n",
    "    scaled_sample = scaler.fit_transform(sample)\n",
    "    return scaled_sample.astype('float32')\n",
    "\n",
    "features = np.array(list(map(prepare_chanels, features)))\n",
    "features.shape"
   ]
  },
  {
   "cell_type": "code",
   "execution_count": 48,
   "metadata": {},
   "outputs": [],
   "source": [
    "# параметры\n",
    "TRAIN_SPLIT = 0.75\n",
    "BATCH_SIZE = 50\n",
    "\n",
    "split_index = int((features.shape[0] - 1) * TRAIN_SPLIT)"
   ]
  },
  {
   "cell_type": "code",
   "execution_count": 49,
   "metadata": {
    "scrolled": false
   },
   "outputs": [
    {
     "data": {
      "text/plain": [
       "<BatchDataset shapes: ((None, 2000, 7), (None,)), types: (tf.float32, tf.int32)>"
      ]
     },
     "execution_count": 49,
     "metadata": {},
     "output_type": "execute_result"
    }
   ],
   "source": [
    "# пайплайн тренировочной выборки\n",
    "train_features = tf.data.Dataset.from_tensor_slices(features[:split_index])\n",
    "train_labels = tf.data.Dataset.from_tensor_slices(labels[:split_index])\n",
    "\n",
    "train_ds = tf.data.Dataset.zip((train_features, train_labels))\n",
    "train_ds = train_ds.shuffle(split_index).batch(BATCH_SIZE)\n",
    "\n",
    "train_ds"
   ]
  },
  {
   "cell_type": "code",
   "execution_count": 50,
   "metadata": {},
   "outputs": [
    {
     "data": {
      "text/plain": [
       "<BatchDataset shapes: ((None, 2000, 7), (None,)), types: (tf.float32, tf.int32)>"
      ]
     },
     "execution_count": 50,
     "metadata": {},
     "output_type": "execute_result"
    }
   ],
   "source": [
    "# пайплайн тестовой выборки\n",
    "test_features = tf.data.Dataset.from_tensor_slices(features[split_index:])\n",
    "test_labels = tf.data.Dataset.from_tensor_slices(labels[split_index:])\n",
    "\n",
    "test_ds = tf.data.Dataset.zip((test_features, test_labels))\n",
    "test_ds = test_ds.batch(1)\n",
    "\n",
    "test_ds"
   ]
  },
  {
   "cell_type": "markdown",
   "metadata": {},
   "source": [
    "# Модель"
   ]
  },
  {
   "cell_type": "code",
   "execution_count": 51,
   "metadata": {},
   "outputs": [],
   "source": [
    "model = tf.keras.models.Sequential([\n",
    "    tf.keras.layers.Conv1D(14, 4, padding='valid', activation='relu'),\n",
    "    tf.keras.layers.MaxPool1D(2, 2),\n",
    "    tf.keras.layers.Conv1D(28, 4, padding='valid', activation='relu'),\n",
    "    tf.keras.layers.MaxPool1D(2, 2),\n",
    "    tf.keras.layers.Conv1D(35, 4, padding='valid', activation='relu'),\n",
    "    tf.keras.layers.MaxPool1D(2, 2),\n",
    "    tf.keras.layers.Conv1D(42, 4, padding='valid', activation='relu'),\n",
    "    tf.keras.layers.MaxPool1D(2, 2),\n",
    "    tf.keras.layers.Flatten(),\n",
    "#    tf.keras.layers.Dense(1024, activation='relu'),\n",
    "    tf.keras.layers.Dense(256, activation='relu'),\n",
    "    tf.keras.layers.Dense(1, activation='sigmoid')\n",
    "])"
   ]
  },
  {
   "cell_type": "markdown",
   "metadata": {},
   "source": [
    "### Параметры обучения"
   ]
  },
  {
   "cell_type": "code",
   "execution_count": 52,
   "metadata": {},
   "outputs": [],
   "source": [
    "bce = tf.keras.losses.BinaryCrossentropy()\n",
    "optimizer = tf.keras.optimizers.Adam()\n",
    "\n",
    "model.compile(optimizer=optimizer,\n",
    "              loss=bce,\n",
    "              metrics=['accuracy'])"
   ]
  },
  {
   "cell_type": "markdown",
   "metadata": {},
   "source": [
    "### Обучение"
   ]
  },
  {
   "cell_type": "code",
   "execution_count": 53,
   "metadata": {
    "scrolled": false
   },
   "outputs": [
    {
     "name": "stdout",
     "output_type": "stream",
     "text": [
      "Epoch 1/10\n",
      "739/739 [==============================] - 119s 159ms/step - loss: 0.4638 - accuracy: 0.7593 - val_loss: 0.2714 - val_accuracy: 0.8900\n",
      "Epoch 2/10\n",
      "739/739 [==============================] - 122s 164ms/step - loss: 0.2720 - accuracy: 0.8895 - val_loss: 0.2426 - val_accuracy: 0.9071\n",
      "Epoch 3/10\n",
      "739/739 [==============================] - 116s 155ms/step - loss: 0.2425 - accuracy: 0.9029 - val_loss: 0.2279 - val_accuracy: 0.9163\n",
      "Epoch 4/10\n",
      "739/739 [==============================] - 117s 157ms/step - loss: 0.2171 - accuracy: 0.9126 - val_loss: 0.2111 - val_accuracy: 0.9150\n",
      "Epoch 5/10\n",
      "739/739 [==============================] - 117s 156ms/step - loss: 0.1943 - accuracy: 0.9248 - val_loss: 0.1972 - val_accuracy: 0.9246\n",
      "Epoch 6/10\n",
      "739/739 [==============================] - 117s 157ms/step - loss: 0.1817 - accuracy: 0.9290 - val_loss: 0.1810 - val_accuracy: 0.9336\n",
      "Epoch 7/10\n",
      "739/739 [==============================] - 128s 172ms/step - loss: 0.1617 - accuracy: 0.9395 - val_loss: 0.1654 - val_accuracy: 0.9389\n",
      "Epoch 8/10\n",
      "739/739 [==============================] - 137s 184ms/step - loss: 0.1482 - accuracy: 0.9434 - val_loss: 0.1643 - val_accuracy: 0.9392\n",
      "Epoch 9/10\n",
      "739/739 [==============================] - 126s 169ms/step - loss: 0.1399 - accuracy: 0.9472 - val_loss: 0.1566 - val_accuracy: 0.9446\n",
      "Epoch 10/10\n",
      "739/739 [==============================] - 119s 159ms/step - loss: 0.1285 - accuracy: 0.9541 - val_loss: 0.1607 - val_accuracy: 0.9455\n"
     ]
    }
   ],
   "source": [
    "history = model.fit(\n",
    "    train_ds,\n",
    "    epochs=10,\n",
    "    validation_data=test_ds)"
   ]
  },
  {
   "cell_type": "markdown",
   "metadata": {},
   "source": [
    "### История loss"
   ]
  },
  {
   "cell_type": "code",
   "execution_count": 54,
   "metadata": {},
   "outputs": [
    {
     "data": {
      "image/png": "[encoded data removed]",
      "text/plain": [
       "<Figure size 432x288 with 1 Axes>"
      ]
     },
     "metadata": {
      "needs_background": "light"
     },
     "output_type": "display_data"
    }
   ],
   "source": [
    "plt.plot(history.history['loss'],label='train loss')\n",
    "plt.plot(history.history['val_loss'], label='test loss')\n",
    "plt.legend()\n",
    "plt.xlabel('Eposch')\n",
    "plt.ylabel('Loss')\n",
    "plt.show()"
   ]
  },
  {
   "cell_type": "markdown",
   "metadata": {},
   "source": [
    "### История accuracy"
   ]
  },
  {
   "cell_type": "code",
   "execution_count": 55,
   "metadata": {},
   "outputs": [
    {
     "data": {
      "image/png": "[encoded data removed]",
      "text/plain": [
       "<Figure size 432x288 with 1 Axes>"
      ]
     },
     "metadata": {
      "needs_background": "light"
     },
     "output_type": "display_data"
    }
   ],
   "source": [
    "plt.plot(history.history['accuracy'],label='train accuracy')\n",
    "plt.plot(history.history['val_accuracy'], label='test accuracy')\n",
    "plt.legend()\n",
    "plt.xlabel('Eposch')\n",
    "plt.ylabel('Accuracy')\n",
    "plt.show()"
   ]
  },
  {
   "cell_type": "markdown",
   "metadata": {},
   "source": [
    "# Метрики"
   ]
  },
  {
   "cell_type": "markdown",
   "metadata": {},
   "source": [
    "`test_true` - реальные метки классов\n",
    "\n",
    "`test_pred` - вероятности класса 1"
   ]
  },
  {
   "cell_type": "code",
   "execution_count": 56,
   "metadata": {},
   "outputs": [
    {
     "data": {
      "text/plain": [
       "((12313,), (12313,))"
      ]
     },
     "execution_count": 56,
     "metadata": {},
     "output_type": "execute_result"
    }
   ],
   "source": [
    "test_pred = model.predict(test_ds)\n",
    "test_pred = test_pred.flatten()\n",
    "\n",
    "test_true = labels[split_index:]\n",
    "\n",
    "test_pred.shape, test_true.shape"
   ]
  },
  {
   "cell_type": "markdown",
   "metadata": {},
   "source": [
    "### ROC"
   ]
  },
  {
   "cell_type": "code",
   "execution_count": 57,
   "metadata": {},
   "outputs": [
    {
     "data": {
      "image/png": "[encoded data removed]",
      "text/plain": [
       "<Figure size 432x288 with 1 Axes>"
      ]
     },
     "metadata": {
      "needs_background": "light"
     },
     "output_type": "display_data"
    }
   ],
   "source": [
    "fpr, tpr, _ = roc_curve(test_true, test_pred)\n",
    "roc_auc = roc_auc_score(test_true, test_pred)\n",
    "plt.plot([0, 1], [0, 1], 'k--')\n",
    "plt.plot(fpr, tpr)\n",
    "plt.xlabel('False positive rate')\n",
    "plt.ylabel('True positive rate')\n",
    "plt.title(f'ROC curve. ROC_AUC = {roc_auc:.3f}')\n",
    "plt.show()"
   ]
  },
  {
   "cell_type": "markdown",
   "metadata": {},
   "source": [
    "### Калибровка порога"
   ]
  },
  {
   "cell_type": "code",
   "execution_count": 58,
   "metadata": {},
   "outputs": [
    {
     "data": {
      "image/png": "[encoded data removed]",
      "text/plain": [
       "<Figure size 1080x360 with 2 Axes>"
      ]
     },
     "metadata": {
      "needs_background": "light"
     },
     "output_type": "display_data"
    }
   ],
   "source": [
    "show_proba_calibration_plots(test_pred, test_true)"
   ]
  },
  {
   "cell_type": "code",
   "execution_count": 59,
   "metadata": {},
   "outputs": [
    {
     "name": "stdout",
     "output_type": "stream",
     "text": [
      "              precision    recall  f1-score   support\n",
      "\n",
      "           0       0.93      0.97      0.95      6204\n",
      "           1       0.96      0.92      0.94      6109\n",
      "\n",
      "    accuracy                           0.95     12313\n",
      "   macro avg       0.95      0.95      0.95     12313\n",
      "weighted avg       0.95      0.95      0.95     12313\n",
      "\n",
      "---------------\n",
      "Матрица ошибок:\n",
      "[[5992  212]\n",
      " [ 459 5650]]\n",
      "---------------\n",
      "Правильно предсказано 0: 5992\n",
      "Правильно предсказано 1: 5650\n",
      "Ложноотрицательных (FN, ош2р, пропуск события): 459\n",
      "Ложноположительных (FP, ош1р, ложная  тревога): 212\n",
      "Всего ошибок: 671\n"
     ]
    }
   ],
   "source": [
    "report(test_true, test_pred, 0.5)"
   ]
  },
  {
   "cell_type": "code",
   "execution_count": 60,
   "metadata": {},
   "outputs": [
    {
     "name": "stdout",
     "output_type": "stream",
     "text": [
      "              precision    recall  f1-score   support\n",
      "\n",
      "           0       0.94      0.93      0.94      6204\n",
      "           1       0.93      0.94      0.94      6109\n",
      "\n",
      "    accuracy                           0.94     12313\n",
      "   macro avg       0.94      0.94      0.94     12313\n",
      "weighted avg       0.94      0.94      0.94     12313\n",
      "\n",
      "---------------\n",
      "Матрица ошибок:\n",
      "[[5796  408]\n",
      " [ 355 5754]]\n",
      "---------------\n",
      "Правильно предсказано 0: 5796\n",
      "Правильно предсказано 1: 5754\n",
      "Ложноотрицательных (FN, ош2р, пропуск события): 355\n",
      "Ложноположительных (FP, ош1р, ложная  тревога): 408\n",
      "Всего ошибок: 763\n"
     ]
    }
   ],
   "source": [
    "report(test_true, test_pred, 0.3)"
   ]
  },
  {
   "cell_type": "code",
   "execution_count": 61,
   "metadata": {},
   "outputs": [
    {
     "data": {
      "text/plain": [
       "(12313,)"
      ]
     },
     "execution_count": 61,
     "metadata": {},
     "output_type": "execute_result"
    }
   ],
   "source": [
    "corrs = data_targets[:,2][split_index:]\n",
    "corrs.shape"
   ]
  },
  {
   "cell_type": "code",
   "execution_count": 62,
   "metadata": {},
   "outputs": [
    {
     "data": {
      "text/plain": [
       "(12313,)"
      ]
     },
     "execution_count": 62,
     "metadata": {},
     "output_type": "execute_result"
    }
   ],
   "source": [
    "qs = data_targets[:,0][split_index:]\n",
    "qs.shape"
   ]
  },
  {
   "cell_type": "code",
   "execution_count": 66,
   "metadata": {
    "scrolled": false
   },
   "outputs": [
    {
     "name": "stdout",
     "output_type": "stream",
     "text": [
      "Правильно предсказано взрывов: 5754\n",
      "Предсказано взрывов с кор <0.6: 1836\n",
      "Доля 0.31908237747653806\n"
     ]
    }
   ],
   "source": [
    "idx_fn = np.argwhere((test_true==1)&(labels_pred(test_pred,0.3)==1))\n",
    "\n",
    "tp_corrs = corrs[idx_fn]\n",
    "\n",
    "print('Правильно предсказано взрывов:', idx_fn.shape[0])\n",
    "print('Предсказано взрывов с кор <0.6:', tp_corrs[tp_corrs<0.6].shape[0])\n",
    "print('Доля', tp_corrs[tp_corrs<0.6].shape[0]/idx_fn.shape[0])"
   ]
  },
  {
   "cell_type": "code",
   "execution_count": 67,
   "metadata": {},
   "outputs": [
    {
     "name": "stdout",
     "output_type": "stream",
     "text": [
      "Пропущенных взрывов: 355\n",
      "Пропущенных взрывов с кор >=0.6: 28\n",
      "Доля 0.9211267605633803\n"
     ]
    }
   ],
   "source": [
    "idx_fn = np.argwhere((test_true==1)&(labels_pred(test_pred,0.3)==0))\n",
    "\n",
    "tp_corrs = corrs[idx_fn]\n",
    "\n",
    "print('Пропущенных взрывов:', idx_fn.shape[0])\n",
    "print('Пропущенных взрывов с кор >=0.6:', tp_corrs[tp_corrs>=0.6].shape[0])\n",
    "print('Доля', tp_corrs[tp_corrs<0.6].shape[0]/idx_fn.shape[0])"
   ]
  },
  {
   "cell_type": "code",
   "execution_count": 68,
   "metadata": {},
   "outputs": [
    {
     "data": {
      "text/html": [
       "<div>\n",
       "<style scoped>\n",
       "    .dataframe tbody tr th:only-of-type {\n",
       "        vertical-align: middle;\n",
       "    }\n",
       "\n",
       "    .dataframe tbody tr th {\n",
       "        vertical-align: top;\n",
       "    }\n",
       "\n",
       "    .dataframe thead th {\n",
       "        text-align: right;\n",
       "    }\n",
       "</style>\n",
       "<table border=\"1\" class=\"dataframe\">\n",
       "  <thead>\n",
       "    <tr style=\"text-align: right;\">\n",
       "      <th></th>\n",
       "      <th>Count</th>\n",
       "    </tr>\n",
       "  </thead>\n",
       "  <tbody>\n",
       "    <tr>\n",
       "      <th>1.0</th>\n",
       "      <td>324</td>\n",
       "    </tr>\n",
       "    <tr>\n",
       "      <th>10.0</th>\n",
       "      <td>106</td>\n",
       "    </tr>\n",
       "    <tr>\n",
       "      <th>100.0</th>\n",
       "      <td>29</td>\n",
       "    </tr>\n",
       "  </tbody>\n",
       "</table>\n",
       "</div>"
      ],
      "text/plain": [
       "       Count\n",
       "1.0      324\n",
       "10.0     106\n",
       "100.0     29"
      ]
     },
     "execution_count": 68,
     "metadata": {},
     "output_type": "execute_result"
    }
   ],
   "source": [
    "idx_fn = np.argwhere((test_true==1)&(labels_pred(test_pred,0.5)==0))\n",
    "\n",
    "tp_qs = qs[idx_fn]\n",
    "\n",
    "unqs = np.unique(tp_qs, return_counts=True)\n",
    "pd.DataFrame(unqs[1],unqs[0],columns=['Count'])"
   ]
  },
  {
   "cell_type": "code",
   "execution_count": 69,
   "metadata": {},
   "outputs": [
    {
     "name": "stdout",
     "output_type": "stream",
     "text": [
      "INFO:tensorflow:Assets written to: classif_model\\assets\n"
     ]
    }
   ],
   "source": [
    "tf.saved_model.save(model,'classif_model')"
   ]
  },
  {
   "cell_type": "code",
   "execution_count": null,
   "metadata": {},
   "outputs": [],
   "source": []
  }
 ],
 "metadata": {
  "kernelspec": {
   "display_name": "Python 3",
   "language": "python",
   "name": "python3"
  },
  "language_info": {
   "codemirror_mode": {
    "name": "ipython",
    "version": 3
   },
   "file_extension": ".py",
   "mimetype": "text/x-python",
   "name": "python",
   "nbconvert_exporter": "python",
   "pygments_lexer": "ipython3",
   "version": "3.7.3"
  }
 },
 "nbformat": 4,
 "nbformat_minor": 4
}
