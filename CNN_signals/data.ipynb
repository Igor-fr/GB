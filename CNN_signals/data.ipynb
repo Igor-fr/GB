{
 "cells": [
  {
   "cell_type": "code",
   "execution_count": null,
   "metadata": {
    "collapsed": true
   },
   "outputs": [],
   "source": [
    "import math\n",
    "import numpy as np\n",
    "from dateutil import parser\n",
    "import os\n",
    "import random\n",
    "import pickle\n",
    "import matplotlib.pyplot as plt\n",
    "import time\n",
    "import copy\n",
    "%matplotlib notebook"
   ]
  },
  {
   "cell_type": "code",
   "execution_count": null,
   "metadata": {
    "collapsed": true
   },
   "outputs": [],
   "source": [
    "length_fragment = 2000 #длина фрагментов\n",
    "freq = 20 #частота\n",
    "fi = [35.307756, 35.312867, 35.311456, 35.304555, 35.299183, 35.307906] #широты каналов\n",
    "tetta = [140.313762, 140.318017, 140.329999, 140.326213, 140.313643, 140.307005] #долготы каналов"
   ]
  },
  {
   "cell_type": "code",
   "execution_count": null,
   "metadata": {
    "collapsed": true
   },
   "outputs": [],
   "source": [
    "class ParseFiles:\n",
    "    FREQ_INFRA = 20\n",
    "    FREQ_WING = 20\n",
    "    COUNT = 72000 #Стандартная длина фрагмента. Пока исходим из ее постоянства\n",
    "\n",
    "    def __init__(self, name):\n",
    "        self.name = name\n",
    "\n",
    "    def ParseAll(self):\n",
    "        self.coefficientWing = 0\n",
    "        self.stations = []\n",
    "        fileText = []\n",
    "        path = \"/Volumes/ELEMENTS/base\"\n",
    "        stations = os.listdir(path)\n",
    "        for station in stations:\n",
    "            if (station.find(\"DS\") != -1 or station[0] == '.'):\n",
    "                continue\n",
    "            years = os.listdir(path + \"/\" + station)\n",
    "            st = []\n",
    "            for year in years:\n",
    "                if (year.find(\"DS\") != -1 or year[0] == '.'):\n",
    "                    continue\n",
    "                files = os.listdir(path + \"/\" + station + \"/\" + year)\n",
    "\n",
    "                for i in range(len(files)):\n",
    "                    if(files[i].find(\"DS\") != -1 or files[i].find(\"icloud\") != -1 or files[i][0] == '.'):\n",
    "                        continue\n",
    "                        with open(path + \"/\" + station + \"/\" + year + \"/\" + files[i]) as fileInfra:\n",
    "                            for line in fileInfra:\n",
    "                                line = line.replace('\\n', '')\n",
    "                                words = line.split(' ')\n",
    "                                words = filter(None, words)\n",
    "                                for word in words:\n",
    "                                    fileText.append(word)\n",
    "                    a = self.ParseFiles(path + \"/\" + station + \"/\" + year + \"/\" + files[i])\n",
    "                    if not (a is None):\n",
    "                        st.append(a)\n",
    "#                     if a:\n",
    "#                         st.append(a)\n",
    "\n",
    "        return st\n",
    "\n",
    "    def ParseFiles(self, path):\n",
    "        f = open(path, \"r\")\n",
    "        print(path)\n",
    "        f = f.read()\n",
    "        f = f.replace('\\n', ' ')\n",
    "        f = f.split(' ')\n",
    "        fileText = [item for item in f if item != '']\n",
    "\n",
    "        channelInfra = []\n",
    "        channelWing = []\n",
    "\n",
    "\n",
    "        nameLast = \"\" #для сохранения имени предыдущей части данных\n",
    "        chaLast = \"\"\n",
    "        i = fileText.index(\"WID2\")\n",
    "        name = \"\"\n",
    "        cha = \"\"\n",
    "        while True:\n",
    "            if fileText[i] == 'WID2':\n",
    "                date = fileText[i + 1]\n",
    "                time = fileText[i + 2]\n",
    "                date = parser.parse(date + ' ' + time)\n",
    "                nameLast = name\n",
    "                chaLast = cha\n",
    "                name = fileText[i + 3]\n",
    "                cha = fileText[i + 4]\n",
    "                count = int(fileText[i + 6])\n",
    "#                 проверка на случай повторяющихся каналов, бывали случаи, когда канал разбивался на две подрядыдущие порции\n",
    "#                 возможно такая же проверка нужна будет для ветра\n",
    "                if (name == nameLast) and (chaLast == 'BDF') and (fileText[i + 4] == 'BDF'):\n",
    "                    print(name)\n",
    "                    channelInfra[-1] = channelInfra[-1] + fileText[i+21:i+21+count]\n",
    "                    i += 21 + count\n",
    "                    fileText = fileText[i:]\n",
    "                    try:\n",
    "                        i = fileText.index(\"WID2\")\n",
    "                    except:\n",
    "                        break\n",
    "                    continue\n",
    "                if fileText[i + 4] == 'BDF':\n",
    "                    latitude = float(fileText[i + 15])\n",
    "                    longitude = float(fileText[i + 16])\n",
    "                    self.FREQ_INFRA = float(fileText[i + 7])\n",
    "                    coefficientInfra = float(fileText[i + 8])\n",
    "                    channelInfra.append(fileText[i+21:i+21+count])\n",
    "                    \n",
    "                    i += 21 + count\n",
    "                    fileText = fileText[i:]\n",
    "                    try:\n",
    "                        i = fileText.index(\"WID2\")\n",
    "                    except:\n",
    "                        break\n",
    "                    continue\n",
    "                if fileText[i + 4] == 'BWS' or fileText[i + 4] == 'LWS':\n",
    "                    self.coefficientWing = float(fileText[i + 8])\n",
    "                    channelWing = fileText[i+21:i+21+count]\n",
    "                    self.FREQ_WING = float(fileText[i + 7])\n",
    "                    i += 21 + count\n",
    "                    fileText = fileText[i:]\n",
    "                    try:\n",
    "                        i = fileText.index(\"WID2\")\n",
    "                    except:\n",
    "                        break\n",
    "                    continue\n",
    "                if fileText[i + 4] == 'LDA' or fileText[i + 4] == 'LKO' or fileText[i + 4] == 'LWD'\\\n",
    "                or fileText[i + 4] == 'BDA' or fileText[i + 4] == 'BKO' or fileText[i + 4] == 'BWD':\n",
    "                    i += 21 + count\n",
    "                    fileText = fileText[i:]\n",
    "                    try:\n",
    "                        i = fileText.index(\"WID2\")\n",
    "                    except:\n",
    "                        break\n",
    "                    continue\n",
    "\n",
    "\n",
    "        #проверка, если на каком-то из каналов запись будет не полная, то канал заполняется до полного своими же значениями\n",
    "        for chan in channelInfra:\n",
    "            if len(chan) < self.COUNT:\n",
    "                while 1:\n",
    "                    if self.COUNT - len(chan) > len(chan):\n",
    "                        chan += chan[0: len(chan)]\n",
    "                    else:\n",
    "                        chan += chan[0: self.COUNT - len(chan)]\n",
    "                        break\n",
    "\n",
    "        if len(channelWing) != 72000:\n",
    "            return None\n",
    "        \n",
    "        channelInfra.append(channelWing)\n",
    "        print(len(channelWing))\n",
    "        \n",
    "        channelInfra = np.array(channelInfra, dtype='int')*coefficientInfra\n",
    "        \n",
    "        if channelInfra.shape != (7, 72000):\n",
    "            print(channelInfra.shape, \"error\")\n",
    "            return None\n",
    "        else:\n",
    "            print(channelInfra.shape, 'success')\n",
    "        channelWing = np.array(channelWing, dtype='int')*self.coefficientWing\n",
    "        print(channelWing.shape)\n",
    "\n",
    "        return channelInfra"
   ]
  },
  {
   "cell_type": "code",
   "execution_count": null,
   "metadata": {
    "collapsed": true
   },
   "outputs": [],
   "source": [
    "def delay(azimut):\n",
    "    f0 = fi[0]\n",
    "    t0 = tetta[0]\n",
    "    rz = 6371000\n",
    "    c = 330\n",
    "    a = math.radians(30)\n",
    "    azimut = math.radians(azimut)\n",
    "    t_channel = []\n",
    "    for i in range(len(fi)):\n",
    "        x = (math.radians(tetta[i]) - math.radians(t0))*rz*math.cos(math.radians(f0))\n",
    "        y = (math.radians(fi[i]) - math.radians(f0))*rz\n",
    "        r = math.sqrt(x**2 + y**2)\n",
    "        if x != 0 and y != 0:         \n",
    "            \n",
    "            if x > 0 and y > 0:\n",
    "                b = math.atan(abs(y/x))\n",
    "            if x < 0 and y > 0:\n",
    "                b = math.pi - math.atan(abs(y/x))\n",
    "            if x < 0 and y < 0:\n",
    "                b = math.pi + math.atan(abs(y/x))\n",
    "            if x > 0 and y < 0:\n",
    "                b = 2*math.pi - math.atan(abs(y/x))\n",
    "                \n",
    "        elif x == 0 and y > 0:\n",
    "            b = math.pi/2\n",
    "        elif x == 0 and y < 0:\n",
    "            b = 3*math.pi/2\n",
    "        elif x > 0 and y == 0:\n",
    "            b = 0\n",
    "        elif x < 0 and y == 0:\n",
    "            b = math.pi\n",
    "        else:\n",
    "            b = 0\n",
    "\n",
    "            \n",
    "        V = c/math.cos(a)\n",
    "        time = (r/V)*math.cos(math.radians(90)-azimut-b)\n",
    "        t_channel.append(time)\n",
    "    m = min(t_channel)\n",
    "    for i in range(len(t_channel)):\n",
    "        t_channel[i] += abs(m)\n",
    "    return t_channel"
   ]
  },
  {
   "cell_type": "code",
   "execution_count": null,
   "metadata": {
    "collapsed": true
   },
   "outputs": [],
   "source": [
    "def CalcAmplitude(c, q):\n",
    "    R = 1238\n",
    "    T = int((10 + 5*math.log10(q))*math.pow(q,1/3))\n",
    "    freq = 20\n",
    "    OMEGA = (0.2/math.pow(q,1/3))*2*math.pi\n",
    "    A0 = math.pow(10, 3.25 + 0.54*math.log10(q) - 1.33*math.log10(R))\n",
    "    Signals = []\n",
    "    count = T*freq\n",
    "    for i in range(c):\n",
    "        A = math.pow(10, math.log10(A0) + math.sqrt(0.0357)*np.random.normal(0, 1))\n",
    "        A2w = 0.25*A\n",
    "        Aw = 0.5*A\n",
    "        Aw2 = 0.25*A\n",
    "        w = OMEGA\n",
    "        w2w = 2*OMEGA\n",
    "        ww2 = OMEGA/2\n",
    "        Signal = []\n",
    "        \n",
    "        for j in range (count):\n",
    "            Signal.append(A2w*math.sin(w2w*j/freq) + Aw*math.sin(w*j/freq) + Aw2*math.sin(ww2*j/freq))\n",
    "        Signals.append(Signal)\n",
    "    return np.array(Signals)"
   ]
  },
  {
   "cell_type": "code",
   "execution_count": null,
   "metadata": {
    "collapsed": true
   },
   "outputs": [],
   "source": [
    "def dft(sig, q):\n",
    "    T = int((10 + 5*math.log10(q))*math.pow(q,1/3))\n",
    "    mi = math.ceil(T/(math.pow(q,1/3)*10))\n",
    "    ma = math.floor((T * 0.6)/(math.pow(q,1/3)))\n",
    "    const = T * freq / 2\n",
    "    res = np.fft.rfft(sig)[mi:ma]\n",
    "    res /= const\n",
    "    return res"
   ]
  },
  {
   "cell_type": "code",
   "execution_count": null,
   "metadata": {
    "collapsed": true
   },
   "outputs": [],
   "source": [
    "def correlation(s1, s2):\n",
    "    a11, a12, a13 = 0, 0, 0\n",
    "    corr_res = 0\n",
    "    for i in range(len(s1)):\n",
    "        a11 += (s1[i].real*s2[i].real +s1[i].imag*s2[i].imag)\n",
    "        a12 += (s1[i].real**2 + s1[i].imag**2)\n",
    "        a13 += (s2[i].real**2 + s2[i].imag**2)\n",
    "    corr_res = a11/math.sqrt(a12*a13)\n",
    "    return corr_res"
   ]
  },
  {
   "cell_type": "code",
   "execution_count": null,
   "metadata": {
    "collapsed": true
   },
   "outputs": [],
   "source": [
    "def corr_all(signal_mas):\n",
    "    corr_mas = []\n",
    "    for i in range(len(signal_mas)):\n",
    "        for j in range(len(signal_mas)):\n",
    "            if i >= j:\n",
    "                continue\n",
    "            corr_mas.append(correlation(signal_mas[i], signal_mas[j]))\n",
    "    res_corr = 0\n",
    "    for c in corr_mas:\n",
    "        res_corr += c\n",
    "    res_corr /= len(corr_mas)\n",
    "    return res_corr"
   ]
  },
  {
   "cell_type": "markdown",
   "metadata": {},
   "source": [
    "# Парсинг и обработка"
   ]
  },
  {
   "cell_type": "code",
   "execution_count": null,
   "metadata": {
    "collapsed": true
   },
   "outputs": [],
   "source": [
    "parser_files = ParseFiles('I30')\n",
    "df = parser_files.ParseAll()"
   ]
  },
  {
   "cell_type": "code",
   "execution_count": null,
   "metadata": {
    "collapsed": true
   },
   "outputs": [],
   "source": [
    "len(df)"
   ]
  },
  {
   "cell_type": "code",
   "execution_count": null,
   "metadata": {
    "collapsed": true
   },
   "outputs": [],
   "source": [
    "dataset_fragm = []\n",
    "# result_dataset_param = []\n",
    "for flow in df:\n",
    "    for i in range(int(len(flow[0])/length_fragment)):\n",
    "        fragment_noise = flow[:,i*length_fragment:(i+1)*length_fragment]\n",
    "        dataset_fragm.append(fragment_noise)\n",
    "#         result_dataset_param.append(np.array([0, None, 0, 0]))\n",
    "#         result_dataset.append(fragment_noise, 0, None, 0, 0)"
   ]
  },
  {
   "cell_type": "code",
   "execution_count": null,
   "metadata": {
    "collapsed": true
   },
   "outputs": [],
   "source": [
    "sig = CalcAmplitude(1, 10)\n",
    "fig = plt.figure(figsize=(10,6))\n",
    "ax = fig.add_subplot(111)\n",
    "ax.plot(sig[0])\n",
    "j = 0\n",
    "time_delays = delay(160)\n",
    "channels = []\n",
    "temp_data = copy.deepcopy(dataset_fragm[85])\n",
    "for fragment in temp_data[:-1]:\n",
    "    fragment[int(freq*time_delays[j]):int(freq*time_delays[j])+len(sig[0])] += sig[0]\n",
    "    j += 1\n",
    "fig = plt.figure(figsize=(10,6))\n",
    "ax = fig.add_subplot(111)\n",
    "i = 1\n",
    "for channel in temp_data:\n",
    "    if i==7:\n",
    "        ax.plot(channel, label = 'W')\n",
    "    else:\n",
    "        ax.plot(channel, label = 'H' + str(i))\n",
    "    i+=1\n",
    "ax.legend()\n",
    "plt.show()\n",
    "for c in range(1):\n",
    "    i = 1\n",
    "    fragment = dataset_fragm[85]\n",
    "    fig = plt.figure(figsize=(10,6))\n",
    "    ax = fig.add_subplot(111)\n",
    "    for channel in fragment:\n",
    "        if i==7:\n",
    "            ax.plot(channel, label = 'W')\n",
    "        else:\n",
    "            ax.plot(channel, label = 'H' + str(i))\n",
    "        i+=1\n",
    "    ax.legend()\n",
    "    plt.show()\n",
    "#     time.sleep(0.5)"
   ]
  },
  {
   "cell_type": "code",
   "execution_count": null,
   "metadata": {
    "collapsed": true
   },
   "outputs": [],
   "source": [
    "len(dataset_fragm)"
   ]
  },
  {
   "cell_type": "code",
   "execution_count": null,
   "metadata": {
    "collapsed": true
   },
   "outputs": [],
   "source": [
    "random.shuffle(dataset_fragm)"
   ]
  },
  {
   "cell_type": "code",
   "execution_count": null,
   "metadata": {
    "collapsed": true
   },
   "outputs": [],
   "source": [
    "noise_fragm = []\n",
    "noise_param = []\n",
    "i = 0\n",
    "for a in range(0,360,10):\n",
    "    time_delays = delay(a)\n",
    "    max_delay = max(time_delays) \n",
    "    for q in range(1, 100, 4):\n",
    "        noise_fragments = copy.deepcopy(dataset_fragm[i*47:(i+1)*47])\n",
    "        T = int((10 + 5*math.log10(q))*math.pow(q,1/3))\n",
    "        i += 1\n",
    "        print(i, a, q)\n",
    "        for noise_fragment in noise_fragments:\n",
    "            step = int(T/3)\n",
    "            corrs = []\n",
    "            k = 0\n",
    "            while int(freq*max_delay + T + step*k) < length_fragment:\n",
    "                channels = []\n",
    "                j = 0\n",
    "                for fragment in noise_fragment[:-1]:\n",
    "                    channels.append(dft(fragment[int(freq*time_delays[j]) + step*k:int(freq*time_delays[j])+T + step*k], q))\n",
    "                    j += 1\n",
    "                k += 1\n",
    "                corr = corr_all(channels)\n",
    "                corrs.append(corr)\n",
    "            noise_fragm.append(noise_fragment)\n",
    "            noise_param.append(np.array([q, a, max(corrs), 0]))\n",
    "#             print(k)"
   ]
  },
  {
   "cell_type": "code",
   "execution_count": null,
   "metadata": {
    "collapsed": true
   },
   "outputs": [],
   "source": [
    "len(noise_fragm)"
   ]
  },
  {
   "cell_type": "code",
   "execution_count": null,
   "metadata": {
    "collapsed": true
   },
   "outputs": [],
   "source": [
    "signals_fragm = []\n",
    "signals_param = []\n",
    "i = 0\n",
    "for a in range(0,360,10):\n",
    "    for q in range(1, 100, 4):\n",
    "        signal_fragments = copy.deepcopy(dataset_fragm[i*47:(i+1)*47])\n",
    "        i += 1\n",
    "        print(i, a, q)\n",
    "        for signal_fragment in signal_fragments:\n",
    "            sig = CalcAmplitude(1, q)\n",
    "            j = 0\n",
    "            time_delays = delay(a)\n",
    "            channels = []\n",
    "            for fragment in signal_fragment[:-1]:\n",
    "                fragment[int(freq*time_delays[j]):int(freq*time_delays[j])+len(sig[0])] += sig[0]\n",
    "                channels.append(dft(fragment[int(freq*time_delays[j]):int(freq*time_delays[j])+len(sig[0])], q))\n",
    "                j += 1\n",
    "            corr = corr_all(channels)\n",
    "            signals_fragm.append(signal_fragment)\n",
    "            signals_param.append(np.array([q, a, corr, 1]))"
   ]
  },
  {
   "cell_type": "code",
   "execution_count": null,
   "metadata": {
    "collapsed": true
   },
   "outputs": [],
   "source": [
    "len(signals_fragm)"
   ]
  },
  {
   "cell_type": "code",
   "execution_count": null,
   "metadata": {
    "collapsed": true
   },
   "outputs": [],
   "source": [
    "result_dataset_fragm = signals_fragm + noise_fragm\n",
    "result_dataset_param = signals_param + noise_param"
   ]
  },
  {
   "cell_type": "code",
   "execution_count": null,
   "metadata": {
    "collapsed": true
   },
   "outputs": [],
   "source": [
    "len(result_dataset_fragm)"
   ]
  },
  {
   "cell_type": "code",
   "execution_count": null,
   "metadata": {
    "collapsed": true
   },
   "outputs": [],
   "source": [
    "result_dataset_fragm = np.array(result_dataset_fragm).astype('float32')\n",
    "result_dataset_param = np.array(result_dataset_param).astype('float32')"
   ]
  },
  {
   "cell_type": "code",
   "execution_count": null,
   "metadata": {
    "collapsed": true
   },
   "outputs": [],
   "source": [
    "print(result_dataset_fragm.shape)\n",
    "print(result_dataset_param.shape)"
   ]
  },
  {
   "cell_type": "code",
   "execution_count": null,
   "metadata": {
    "collapsed": true
   },
   "outputs": [],
   "source": [
    "p = np.random.permutation(len(result_dataset_fragm))\n",
    "result_dataset_fragm = result_dataset_fragm[p]\n",
    "result_dataset_param = result_dataset_param[p]"
   ]
  },
  {
   "cell_type": "code",
   "execution_count": null,
   "metadata": {
    "collapsed": true
   },
   "outputs": [],
   "source": [
    "for c in range(75, 80):\n",
    "    i = 1\n",
    "    fragment = result_dataset_fragm[c]\n",
    "    paramet = result_dataset_param[c]\n",
    "    print(paramet[0], paramet[1], paramet[2], paramet[3])\n",
    "    fig = plt.figure(figsize=(10,6))\n",
    "    ax = fig.add_subplot(111)\n",
    "    for channel in fragment:\n",
    "        if i==7:\n",
    "            ax.plot(channel, label = 'W')\n",
    "        else:\n",
    "            ax.plot(channel, label = 'H' + str(i))\n",
    "        i+=1\n",
    "    ax.legend()\n",
    "    plt.show()\n",
    "#     time.sleep(0.5)"
   ]
  },
  {
   "cell_type": "code",
   "execution_count": null,
   "metadata": {
    "collapsed": true
   },
   "outputs": [],
   "source": [
    "with open('/Users/igorfrolkin/Desktop/data_param_various_qa_3.pkl', 'wb+') as f:\n",
    "    np.save(f, result_dataset_param)"
   ]
  },
  {
   "cell_type": "code",
   "execution_count": null,
   "metadata": {
    "collapsed": true
   },
   "outputs": [],
   "source": [
    "y_real = result_dataset_param[:, 3]"
   ]
  },
  {
   "cell_type": "code",
   "execution_count": null,
   "metadata": {
    "collapsed": true
   },
   "outputs": [],
   "source": [
    "y_proba = result_dataset_param[:, 2]"
   ]
  },
  {
   "cell_type": "code",
   "execution_count": null,
   "metadata": {
    "collapsed": true
   },
   "outputs": [],
   "source": [
    "y_proba = abs(y_proba)"
   ]
  },
  {
   "cell_type": "code",
   "execution_count": null,
   "metadata": {
    "collapsed": true
   },
   "outputs": [],
   "source": [
    "from sklearn.metrics import roc_curve, auc\n",
    "fpr_rf, tpr_rf, _ = roc_curve(y_real, y_proba)\n",
    "roc_auc = auc(fpr_rf, tpr_rf)"
   ]
  },
  {
   "cell_type": "code",
   "execution_count": null,
   "metadata": {
    "collapsed": true
   },
   "outputs": [],
   "source": [
    "roc_auc"
   ]
  },
  {
   "cell_type": "code",
   "execution_count": null,
   "metadata": {
    "collapsed": true
   },
   "outputs": [],
   "source": [
    "ro = -1\n",
    "count = y_real.shape[0]\n",
    "x = []\n",
    "y = []\n",
    "while ro <= 1:\n",
    "    y1 = np.argwhere((y_proba > ro)&(y_real == 1)).shape[0]/count*2\n",
    "    x1 = np.argwhere((y_proba > ro)&(y_real == 0)).shape[0]/count*2\n",
    "    x.append(x1)\n",
    "    y.append(y1)\n",
    "    ro += 0.001"
   ]
  },
  {
   "cell_type": "code",
   "execution_count": null,
   "metadata": {
    "collapsed": true
   },
   "outputs": [],
   "source": [
    "fig = plt.figure(figsize=(10,10))\n",
    "ax = fig.add_subplot(111)\n",
    "ax.plot([0, 1], [0, 1], 'k--')\n",
    "ax.plot(x,y)"
   ]
  },
  {
   "cell_type": "code",
   "execution_count": null,
   "metadata": {
    "collapsed": true
   },
   "outputs": [],
   "source": [
    "fig = plt.figure(figsize=(18,9))\n",
    "ax = fig.add_subplot(111)\n",
    "ax.hist(y_proba[np.argwhere(y_real == 1)], bins=[i/100 for i in range(-100,101,1)], color='red', alpha=0.7)\n",
    "ax.hist(y_proba[np.argwhere(y_real == 0)], bins=[i/100 for i in range(-100,101,1)], color='blue', alpha=0.7)"
   ]
  }
 ],
 "metadata": {
  "kernelspec": {
   "display_name": "Python 3",
   "language": "python",
   "name": "python3"
  },
  "language_info": {
   "codemirror_mode": {
    "name": "ipython",
    "version": 3
   },
   "file_extension": ".py",
   "mimetype": "text/x-python",
   "name": "python",
   "nbconvert_exporter": "python",
   "pygments_lexer": "ipython3",
   "version": "3.7.3"
  }
 },
 "nbformat": 4,
 "nbformat_minor": 4
}
